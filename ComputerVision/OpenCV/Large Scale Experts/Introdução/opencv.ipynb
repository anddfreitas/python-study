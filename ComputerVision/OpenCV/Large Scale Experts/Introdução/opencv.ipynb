{
 "cells": [
  {
   "cell_type": "markdown",
   "metadata": {},
   "source": [
    "Diferenças entre processamento de imagens e visão computacional:\n",
    "<center><img src= \".\\images\\1.png\" width=20%></center>"
   ]
  },
  {
   "cell_type": "markdown",
   "metadata": {},
   "source": [
    "Instalação:\n",
    "Versão completa de python:\n",
    "pip3 install --user opencv-python\n",
    "Versão que possui aprimoramento para o c++: \n",
    "pip3 install --user opencv-contrib-python"
   ]
  },
  {
   "cell_type": "markdown",
   "metadata": {},
   "source": []
  }
 ],
 "metadata": {
  "language_info": {
   "name": "python"
  }
 },
 "nbformat": 4,
 "nbformat_minor": 2
}
