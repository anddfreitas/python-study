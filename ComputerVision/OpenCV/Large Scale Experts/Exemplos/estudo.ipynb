{
 "cells": [
  {
   "cell_type": "code",
   "execution_count": 12,
   "metadata": {},
   "outputs": [],
   "source": [
    "# Import das bibliotecas\n",
    "import cv2\n",
    "import numpy as np\n",
    "from matplotlib import pyplot as plt"
   ]
  },
  {
   "cell_type": "code",
   "execution_count": 5,
   "metadata": {},
   "outputs": [],
   "source": [
    "# Funções\n",
    "def imgShow(img, nome):\n",
    "    # Mostra a imagem\n",
    "    cv2.imshow(nome, img)\n",
    "    # Espera que uma tecla seja pressionada\n",
    "    cv2.waitKey(0)\n",
    "    # Limpa a instância do opencv\n",
    "    img.release()\n",
    "    # Fecha a janela\n",
    "    cv2.destroyAllWindows()\n",
    "\n",
    "def mostraInfos(img):\n",
    "    # Mostra imagem\n",
    "    print(\"Matriz da imagem:\")\n",
    "    print (img)\n",
    "    # Mostra as informações da imagem\n",
    "    print(\"Informações da imagem:\")\n",
    "    print (img.shape)\n",
    "    # Mostra o tipo da imagem\n",
    "    print(\"Tipo da imagem:\")\n",
    "    print (type(img))\n",
    "\n",
    "# def imgGray(img):\n",
    "\n",
    "# def capShow(cap):\n",
    "    "
   ]
  },
  {
   "cell_type": "markdown",
   "metadata": {},
   "source": [
    "## 1. Leitura de imagens"
   ]
  },
  {
   "cell_type": "code",
   "execution_count": null,
   "metadata": {},
   "outputs": [],
   "source": [
    "# Começa com a leitura da imagem\n",
    "img = cv2.imread('./memes.jfif')\n",
    "# # A imagem é composta por 3 matrizes, uma camada azul, uma verde e outra vermelha, para RGB\n",
    "print (img)\n",
    "# # Imprime uma tupla com a altura, largura e quantidade de camadas da imagem\n",
    "# # 597 pixels de altura, 599 pixels de largura e 3 camadas de imagem\n",
    "print (img.shape)\n",
    "print (type(img))\n",
    "# # Script comumente usando para visualizar a imagem\n",
    "# # Método que mostra a imagem\n",
    "cv2.imshow('image', img)\n",
    "# # Key para quando pressionada feche a imagem\n",
    "cv2.waitKey(0)\n",
    "# # Método para fechar a imagem quando a tecla for pressionada\n",
    "cv2.destroyAllWindows()"
   ]
  },
  {
   "cell_type": "code",
   "execution_count": null,
   "metadata": {},
   "outputs": [],
   "source": [
    "# Adicionando uma flag de leitura em preto e branco\n",
    "img2 = cv2.imread('./media/memes.jfif', cv2.IMREAD_GRAYSCALE)\n",
    "\n",
    "mostraInfos(img2)\n",
    "imgShow(img2, 'imagem')\n",
    "\n",
    "# Salvar a imagem no disco, é possível ler em um formato e salvar em outro\n",
    "cv2.imwrite('output.jpg', img2)"
   ]
  },
  {
   "cell_type": "markdown",
   "metadata": {},
   "source": [
    "## 2. Personalizando a imagem"
   ]
  },
  {
   "cell_type": "code",
   "execution_count": null,
   "metadata": {},
   "outputs": [],
   "source": [
    "# Desenhar nas imagens:\n",
    "img3 = cv2.imread('./media/memes.jfif')\n",
    "# Desenhar uma linha\n",
    "# Passa primeiro a imagem, em seguida a coordenada de inicio, coordenada final, cor, espessura da linha\n",
    "# O plano cartesionado funciona normal para o eixo x e o crescente do y é para baixo:\n",
    "cv2.line(img3, (0,0), (100,100), (255,255,255), 15)\n",
    "imgShow(img3)\n",
    "\n",
    "# Desenhar shapes\n",
    "# Desenhar um retângulo, mesmos args da linha\n",
    "img4 = cv2.imread('./media/memes.jfif')\n",
    "cv2.rectangle(img4, (0,0), (100,100), (180,40,30), 15)\n",
    "imgShow(img4)\n",
    "\n",
    "# Desenhar pontos\n",
    "img5 = cv2.imread('./media/memes.jfif')\n",
    "pts = np.array([[10,5], [20,30], [100,140]], np.int32)\n",
    "# Recebe uma imagem, um array com os pontos, para fechar o ultimo ponto com os primeiros, chamamos True, recebe cor e a borda\n",
    "cv2.polyLines(img5, [pts], True, (0,255,0), 15)\n",
    "imgShow(img5)\n",
    "\n",
    "# Desenhar circulo\n",
    "img6 = cv2.imread('./media/memes.jfif')\n",
    "cv2.circle(img6, (0,0), (100,100), (180,40,30), 15)\n",
    "imgShow(img6)"
   ]
  },
  {
   "cell_type": "markdown",
   "metadata": {},
   "source": [
    "## 3. Leitura de vídeo"
   ]
  },
  {
   "cell_type": "code",
   "execution_count": null,
   "metadata": {},
   "outputs": [],
   "source": [
    "# Para armazenar o vídeo em uma variável\n",
    "cap = cv2.VideoCapture('./media/video.mp4')\n",
    "# Para ler a webcam chama-se o index\n",
    "cap2 = cv2.VideoCapture(0)\n",
    "# Para ler a captura\n",
    "while(True):\n",
    "    ok, frame = cap.read()\n",
    "    # Se a imagem não tiver sido lida, o programa vai parar\n",
    "    if not ok:\n",
    "        break\n",
    "    cv2.imshow('frame', frame)\n",
    "    # Aqui ele espera por um evento do teclado, e responde em 100 ms, o ord('q') faz com que quando o q seja pressionado o programa pare\n",
    "    if cv2.waitKey(1) & 0xFF == ord('q'):\n",
    "        break\n",
    "# Limpa o vídeo da memória\n",
    "cap.release()"
   ]
  },
  {
   "cell_type": "markdown",
   "metadata": {},
   "source": [
    "## 4. Lendo a WebCam"
   ]
  },
  {
   "cell_type": "code",
   "execution_count": null,
   "metadata": {},
   "outputs": [],
   "source": [
    "n = 0\n",
    "# Lendo a webcam\n",
    "while(True):\n",
    "    ok2, frame2 = cap2.read()\n",
    "    # Se a imagem não tiver sido lida, o programa vai parar\n",
    "    if not ok2:\n",
    "        break\n",
    "    # Imprime um texto na imagem em todos os frames da imagem\n",
    "    cv2.putText(frame2, \n",
    "               'Hello world', \n",
    "               (100, 50), \n",
    "               cv2.FONT_ITALIC, \n",
    "               1, \n",
    "               (15,30,40), \n",
    "               cv2.LINE_4)\n",
    "    n = n + 1\n",
    "    # Imprimir a quantidade de frames, atualizando a string de frame-a-frame\n",
    "    cv2.putText(frame2, \n",
    "               str(n), \n",
    "               (150, 50), \n",
    "               cv2.FONT_ITALIC, \n",
    "               1, \n",
    "               (150,40,150), \n",
    "               cv2.LINE_4)\n",
    "    # A leitura das cores é (B,G,R)\n",
    "    cv2.imshow('frame', frame2)\n",
    "    # Aqui ele espera por um evento do teclado, e responde em 100 ms, o ord('q') faz com que quando o q seja pressionado o programa pare\n",
    "    if cv2.waitKey(1) & 0xFF == ord('q'):\n",
    "        break\n",
    "cap2.release()\n",
    "cv2.destroyAllWindows()"
   ]
  },
  {
   "cell_type": "markdown",
   "metadata": {},
   "source": [
    "## 5. Gravando e armazenando vídeo"
   ]
  },
  {
   "cell_type": "code",
   "execution_count": null,
   "metadata": {},
   "outputs": [],
   "source": [
    "# Essa condição é importante para processar um vídeo que roda por um algoritmo e não seja real time\n",
    "cap = cv2.VideoCapture(0)\n",
    "# Cria um codec de processamento, simples mas eficaz no windows\n",
    "codec = cv2.VideoWriter_fourcc(*'XVID')\n",
    "# Salva o vídeo, nome, codec, taxa de processamento, tamanho\n",
    "writer = cv2.VideoWriter('out.avi', codec, 20, (640,480))\n",
    "while(True):\n",
    "    ok, frame = cap.read()\n",
    "    if not ok:\n",
    "        break\n",
    "    # Escreve o video no frame\n",
    "    # Basicamente o que ele tá fazendo aqui é gerando um vídeo e salvando ele em uma matriz\n",
    "    writer.write(frame)\n",
    "    cv2.imshow('frame', frame)\n",
    "    if cv2.waitKey(1) & 0xFF == ord('q'):\n",
    "        break\n",
    "cap.release()\n",
    "writer.release()\n",
    "cv2.destroyAllWindows()"
   ]
  },
  {
   "cell_type": "markdown",
   "metadata": {},
   "source": [
    "## 6. Recorte"
   ]
  },
  {
   "cell_type": "code",
   "execution_count": null,
   "metadata": {},
   "outputs": [],
   "source": [
    "matrix = np.array([\n",
    "    [1,2,3,4,5,6,7,8,9],\n",
    "    [10,20,30,40,50,60,70,80,90],\n",
    "    [100,200,300,400,500,600,700,800,900],\n",
    "    [1000,2000,3000,4000,5000,6000,7000,8000,9000]\n",
    "])\n",
    "# Vai retornar as linas de 0 a 2 sem entrar a 2 e o indice 4\n",
    "croped = matrix[0:2,4]\n",
    "print(croped)\n",
    "img = cv2.imread('./memes.jfif')\n",
    "cv2.imshow('image', img)\n",
    "cv2.waitKey(0)\n",
    "# Eixo Y, Eixo X\n",
    "croped2 = img[100:400, 50:400]\n",
    "cv2.imshow('image', croped2)\n",
    "cv2.waitKey(0)\n",
    "# E se eu quisesse começar em um ponto e ele fizesse a leitura de 500px a partir daquele ponto\n",
    "y = 100\n",
    "h = 500 # Altura\n",
    "x = 50\n",
    "w = 400 # Largura\n",
    "# Supondo que os pontos iniciais foram pegues através de uma feature\n",
    "croped3 = img[y:y+h, x:x+w]\n",
    "cv2.imshow('image', croped3)\n",
    "cv2.waitKey(0)\n",
    "cv2.destroyAllWindows()"
   ]
  },
  {
   "cell_type": "markdown",
   "metadata": {},
   "source": [
    "## 7. Operações matemáticas"
   ]
  },
  {
   "cell_type": "code",
   "execution_count": 13,
   "metadata": {},
   "outputs": [],
   "source": [
    "def show(img):\n",
    "    plt.imshow(img)\n",
    "    plt.show()"
   ]
  },
  {
   "cell_type": "code",
   "execution_count": null,
   "metadata": {},
   "outputs": [],
   "source": [
    "img = cv2.imread('./media/memes.jfif')\n",
    "show(img)\n",
    "# Percebe-se que as tonalidades da imagem são diferentes\n",
    "# O openCV lê em BGR, enquanto o matplot lê em RGB\n",
    "img2 = cv2.cvtColor(img, cv2.COLOR_BGR2RGB)\n",
    "show(img2)"
   ]
  },
  {
   "cell_type": "code",
   "execution_count": 18,
   "metadata": {},
   "outputs": [
    {
     "data": {
      "text/plain": [
       "array([159, 168, 171], dtype=uint8)"
      ]
     },
     "execution_count": 18,
     "metadata": {},
     "output_type": "execute_result"
    }
   ],
   "source": [
    "# Mostra as cores em determinado pixel\n",
    "img[55,55]"
   ]
  },
  {
   "cell_type": "code",
   "execution_count": null,
   "metadata": {},
   "outputs": [],
   "source": [
    "# Substitui as cores de um pixel por outras cores\n",
    "img2[55,55] = np.array([0,0,0])\n",
    "show(img2)"
   ]
  },
  {
   "cell_type": "code",
   "execution_count": null,
   "metadata": {},
   "outputs": [],
   "source": [
    "# Substitui em um intervalo\n",
    "img2[100:300, 100:200] = [255, 255, 255]\n",
    "show(img2)"
   ]
  },
  {
   "cell_type": "code",
   "execution_count": null,
   "metadata": {},
   "outputs": [],
   "source": [
    "# Soma duas imagens\n",
    "res = img * img2\n",
    "show(res)\n",
    "# Subtrai duas imagens\n",
    "res2 = img2 - img\n",
    "show(res2)\n",
    "# Soma duas imagens\n",
    "res = cv2.add(img, img2)\n",
    "show(res)"
   ]
  }
 ],
 "metadata": {
  "kernelspec": {
   "display_name": "Python 3",
   "language": "python",
   "name": "python3"
  },
  "language_info": {
   "codemirror_mode": {
    "name": "ipython",
    "version": 3
   },
   "file_extension": ".py",
   "mimetype": "text/x-python",
   "name": "python",
   "nbconvert_exporter": "python",
   "pygments_lexer": "ipython3",
   "version": "3.12.4"
  }
 },
 "nbformat": 4,
 "nbformat_minor": 2
}
