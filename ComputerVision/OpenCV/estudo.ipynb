{
 "cells": [
  {
   "cell_type": "code",
   "execution_count": null,
   "metadata": {},
   "outputs": [],
   "source": [
    "# Import das bibliotecas\n",
    "import cv2\n",
    "import numpy as np\n",
    "from matplotlib import pyplot as plt"
   ]
  },
  {
   "cell_type": "code",
   "execution_count": null,
   "metadata": {},
   "outputs": [],
   "source": [
    "# Funções\n",
    "def imgShow(img, nome):\n",
    "    # Mostra a imagem\n",
    "    cv2.imshow(nome, img)\n",
    "    # Espera que uma tecla seja pressionada\n",
    "    cv2.waitKey(0)\n",
    "    # Limpa a instância do opencv\n",
    "    img.release()\n",
    "    # Fecha a janela\n",
    "    cv2.destroyAllWindows()\n",
    "\n",
    "def mostraInfos(img):\n",
    "    # Mostra imagem\n",
    "    print(\"Matriz da imagem:\")\n",
    "    print (img)\n",
    "    # Mostra as informações da imagem\n",
    "    print(\"Informações da imagem:\")\n",
    "    print (img.shape)\n",
    "    # Mostra o tipo da imagem\n",
    "    print(\"Tipo da imagem:\")\n",
    "    print (type(img))\n",
    "\n",
    "def threshold_binary(img, min, max):\n",
    "    gray = cv2.cvtColor(img, cv2.COLOR_BGR2RGB)\n",
    "    ret, thresh = cv2.threshold(gray, min, max, cv2.THRESH_BINARY)\n",
    "    return thresh\n",
    "\n",
    "# def capShow(cap):\n",
    "\n",
    "    "
   ]
  },
  {
   "cell_type": "markdown",
   "metadata": {},
   "source": [
    "## 1. Leitura de imagens"
   ]
  },
  {
   "cell_type": "code",
   "execution_count": null,
   "metadata": {},
   "outputs": [],
   "source": [
    "# Começa com a leitura da imagem\n",
    "img = cv2.imread('./media/memes.jfif')\n",
    "# # A imagem é composta por 3 matrizes, uma camada azul, uma verde e outra vermelha, para RGB\n",
    "print (img)\n",
    "# # Imprime uma tupla com a altura, largura e quantidade de camadas da imagem\n",
    "# # 597 pixels de altura, 599 pixels de largura e 3 camadas de imagem\n",
    "print (img.shape)\n",
    "print (type(img))\n",
    "# # Script comumente usando para visualizar a imagem\n",
    "# # Método que mostra a imagem\n",
    "cv2.imshow('image', img)\n",
    "# # Key para quando pressionada feche a imagem\n",
    "cv2.waitKey(0)\n",
    "# # Método para fechar a imagem quando a tecla for pressionada\n",
    "cv2.destroyAllWindows()"
   ]
  },
  {
   "cell_type": "code",
   "execution_count": null,
   "metadata": {},
   "outputs": [],
   "source": [
    "# Adicionando uma flag de leitura em preto e branco\n",
    "img2 = cv2.imread('./media/memes.jfif', cv2.IMREAD_GRAYSCALE)\n",
    "\n",
    "mostraInfos(img2)\n",
    "imgShow(img2, 'imagem')\n",
    "\n",
    "# Salvar a imagem no disco, é possível ler em um formato e salvar em outro\n",
    "cv2.imwrite('output.jpg', img2)"
   ]
  },
  {
   "cell_type": "markdown",
   "metadata": {},
   "source": [
    "## 2. Personalizando a imagem"
   ]
  },
  {
   "cell_type": "code",
   "execution_count": null,
   "metadata": {},
   "outputs": [],
   "source": [
    "import cv2\n",
    "\n",
    "# Desenhar nas imagens:\n",
    "img3 = cv2.imread('./media/memes.jfif')\n",
    "# Desenhar uma linha\n",
    "# Passa primeiro a imagem, em seguida a coordenada de inicio, coordenada final, cor, espessura da linha\n",
    "# O plano cartesionado funciona normal para o eixo x e o crescente do y é para baixo:\n",
    "cv2.line(img3, (0,0), (100,100), (255,255,255), 15)\n",
    "imgShow(img3, 'imagem')\n",
    "\n",
    "# Desenhar shapes\n",
    "# Desenhar um retângulo, mesmos args da linha\n",
    "img4 = cv2.imread('./media/memes.jfif')\n",
    "cv2.rectangle(img4, (0,0), (100,100), (180,40,30), 15)\n",
    "imgShow(img4, 'imagem')\n",
    "\n",
    "# Desenhar pontos\n",
    "img5 = cv2.imread('./media/memes.jfif')\n",
    "pts = np.array([[10,5], [20,30], [100,140]], np.int32)\n",
    "# Recebe uma imagem, um array com os pontos, para fechar o ultimo ponto com os primeiros, chamamos True, recebe cor e a borda\n",
    "cv2.polyLines(img5, [pts], True, (0,255,0), 15)\n",
    "imgShow(img5, 'imagem')\n",
    "\n",
    "# Desenhar circulo\n",
    "img6 = cv2.imread('./media/memes.jfif')\n",
    "cv2.circle(img6, (0,0), (100,100), (180,40,30), 15)\n",
    "imgShow(img6, 'imagem')"
   ]
  },
  {
   "cell_type": "markdown",
   "metadata": {},
   "source": [
    "## 3. Leitura de vídeo"
   ]
  },
  {
   "cell_type": "code",
   "execution_count": null,
   "metadata": {},
   "outputs": [],
   "source": [
    "# Para armazenar o vídeo em uma variável\n",
    "cap = cv2.VideoCapture('./media/video.mp4')\n",
    "# Para ler a webcam chama-se o index\n",
    "cap2 = cv2.VideoCapture(0)\n",
    "# Para ler a captura\n",
    "while(True):\n",
    "    ok, frame = cap.read()\n",
    "    # Se a imagem não tiver sido lida, o programa vai parar\n",
    "    if not ok:\n",
    "        break\n",
    "    cv2.imshow('frame', frame)\n",
    "    # Aqui ele espera por um evento do teclado, e responde em 100 ms, o ord('q') faz com que quando o q seja pressionado o programa pare\n",
    "    if cv2.waitKey(1) & 0xFF == ord('q'):\n",
    "        break\n",
    "# Limpa o vídeo da memória\n",
    "cap.release()"
   ]
  },
  {
   "cell_type": "markdown",
   "metadata": {},
   "source": [
    "## 4. Lendo a WebCam"
   ]
  },
  {
   "cell_type": "code",
   "execution_count": null,
   "metadata": {},
   "outputs": [],
   "source": [
    "n = 0\n",
    "# Lendo a webcam\n",
    "while(True):\n",
    "    ok2, frame2 = cap2.read()\n",
    "    # Se a imagem não tiver sido lida, o programa vai parar\n",
    "    if not ok2:\n",
    "        break\n",
    "    # Imprime um texto na imagem em todos os frames da imagem\n",
    "    cv2.putText(frame2, \n",
    "               'Hello world', \n",
    "               (100, 50), \n",
    "               cv2.FONT_ITALIC, \n",
    "               1, \n",
    "               (15,30,40), \n",
    "               cv2.LINE_4)\n",
    "    n = n + 1\n",
    "    # Imprimir a quantidade de frames, atualizando a string de frame-a-frame\n",
    "    cv2.putText(frame2, \n",
    "               str(n), \n",
    "               (150, 50), \n",
    "               cv2.FONT_ITALIC, \n",
    "               1, \n",
    "               (150,40,150), \n",
    "               cv2.LINE_4)\n",
    "    # A leitura das cores é (B,G,R)\n",
    "    cv2.imshow('frame', frame2)\n",
    "    # Aqui ele espera por um evento do teclado, e responde em 100 ms, o ord('q') faz com que quando o q seja pressionado o programa pare\n",
    "    if cv2.waitKey(1) & 0xFF == ord('q'):\n",
    "        break\n",
    "cap2.release()\n",
    "cv2.destroyAllWindows()"
   ]
  },
  {
   "cell_type": "markdown",
   "metadata": {},
   "source": [
    "## 5. Gravando e armazenando vídeo"
   ]
  },
  {
   "cell_type": "code",
   "execution_count": null,
   "metadata": {},
   "outputs": [],
   "source": [
    "# Essa condição é importante para processar um vídeo que roda por um algoritmo e não seja real time\n",
    "cap = cv2.VideoCapture(0)\n",
    "# Cria um codec de processamento, simples mas eficaz no windows\n",
    "codec = cv2.VideoWriter_fourcc(*'XVID')\n",
    "# Salva o vídeo, nome, codec, taxa de processamento, tamanho\n",
    "writer = cv2.VideoWriter('out.avi', codec, 20, (640,480))\n",
    "while(True):\n",
    "    ok, frame = cap.read()\n",
    "    if not ok:\n",
    "        break\n",
    "    # Escreve o video no frame\n",
    "    # Basicamente o que ele tá fazendo aqui é gerando um vídeo e salvando ele em uma matriz\n",
    "    writer.write(frame)\n",
    "    cv2.imshow('frame', frame)\n",
    "    if cv2.waitKey(1) & 0xFF == ord('q'):\n",
    "        break\n",
    "cap.release()\n",
    "writer.release()\n",
    "cv2.destroyAllWindows()"
   ]
  },
  {
   "cell_type": "markdown",
   "metadata": {},
   "source": [
    "## 6. Recorte"
   ]
  },
  {
   "cell_type": "code",
   "execution_count": null,
   "metadata": {},
   "outputs": [],
   "source": [
    "matrix = np.array([\n",
    "    [1,2,3,4,5,6,7,8,9],\n",
    "    [10,20,30,40,50,60,70,80,90],\n",
    "    [100,200,300,400,500,600,700,800,900],\n",
    "    [1000,2000,3000,4000,5000,6000,7000,8000,9000]\n",
    "])\n",
    "# Vai retornar as linas de 0 a 2 sem entrar a 2 e o indice 4\n",
    "croped = matrix[0:2,4]\n",
    "print(croped)\n",
    "img = cv2.imread('./memes.jfif')\n",
    "cv2.imshow('image', img)\n",
    "cv2.waitKey(0)\n",
    "# Eixo Y, Eixo X\n",
    "croped2 = img[100:400, 50:400]\n",
    "cv2.imshow('image', croped2)\n",
    "cv2.waitKey(0)\n",
    "# E se eu quisesse começar em um ponto e ele fizesse a leitura de 500px a partir daquele ponto\n",
    "y = 100\n",
    "h = 500 # Altura\n",
    "x = 50\n",
    "w = 400 # Largura\n",
    "# Supondo que os pontos iniciais foram pegues através de uma feature\n",
    "croped3 = img[y:y+h, x:x+w]\n",
    "cv2.imshow('image', croped3)\n",
    "cv2.waitKey(0)\n",
    "cv2.destroyAllWindows()"
   ]
  },
  {
   "cell_type": "markdown",
   "metadata": {},
   "source": [
    "## 7. Operações matemáticas"
   ]
  },
  {
   "cell_type": "code",
   "execution_count": null,
   "metadata": {},
   "outputs": [],
   "source": [
    "def show(img):\n",
    "    plt.imshow(img)\n",
    "    plt.show()"
   ]
  },
  {
   "cell_type": "code",
   "execution_count": null,
   "metadata": {},
   "outputs": [],
   "source": [
    "img = cv2.imread('./media/memes.jfif')\n",
    "show(img)\n",
    "# Percebe-se que as tonalidades da imagem são diferentes\n",
    "# O openCV lê em BGR, enquanto o matplot lê em RGB\n",
    "img2 = cv2.cvtColor(img, cv2.COLOR_BGR2RGB)\n",
    "show(img2)"
   ]
  },
  {
   "cell_type": "code",
   "execution_count": null,
   "metadata": {},
   "outputs": [],
   "source": [
    "# Mostra as cores em determinado pixel\n",
    "img[55,55]"
   ]
  },
  {
   "cell_type": "code",
   "execution_count": null,
   "metadata": {},
   "outputs": [],
   "source": [
    "# Substitui as cores de um pixel por outras cores\n",
    "img2[55,55] = np.array([0,0,0])\n",
    "show(img2)"
   ]
  },
  {
   "cell_type": "code",
   "execution_count": null,
   "metadata": {},
   "outputs": [],
   "source": [
    "# Substitui em um intervalo\n",
    "img2[100:300, 100:200] = [255, 255, 255]\n",
    "show(img2)"
   ]
  },
  {
   "cell_type": "code",
   "execution_count": null,
   "metadata": {},
   "outputs": [],
   "source": [
    "# Soma duas imagens\n",
    "res = img * img2\n",
    "show(res)\n",
    "# Subtrai duas imagens\n",
    "res2 = img2 - img\n",
    "show(res2)\n",
    "# Soma duas imagens\n",
    "res = cv2.add(img, img2)\n",
    "show(res)"
   ]
  },
  {
   "cell_type": "markdown",
   "metadata": {},
   "source": [
    "## 8. Thresholding"
   ]
  },
  {
   "cell_type": "code",
   "execution_count": null,
   "metadata": {},
   "outputs": [],
   "source": [
    "import cv2\n",
    "import matplotlib.pyplot as plt\n",
    "\n",
    "# Threshold (limiarização) é uma técnica de processamento de imagens que consiste em separar pixels de uma imagem em duas categorias distintas, normalmente preto e branco, a partir de um valor limiar. Esse valor é escolhido com base em características da imagem que se deseja destacar ou ignorar.\n",
    "\n",
    "# Importa imagem\n",
    "res = cv2.imread('./media/memes.jfif')\n",
    "\n",
    "# Converte de BGR para gray\n",
    "gray = cv2.cvtColor(res, cv2.COLOR_BGR2GRAY)\n",
    "\n",
    "# Converte a imagem para gray a partir da leitura dela\n",
    "gray2 = cv2.imread('./media/memes.jfif' , cv2.IMREAD_GRAYSCALE)\n",
    "\n",
    "min = 127\n",
    "max = 255\n",
    "\n",
    "# Aplicando o Thresholding\n",
    "#ret, thresh1 = cv2.threshold(gray, 127, 255, cv2.THRESH_BINARY)\n",
    "# pixel, variável = cv2.threshold(imagem_cinza, menor valor de cor, maior valor de cor, tipo de threshold)\n",
    "ret, thresh1 = cv2.threshold(gray, min, max, cv2.THRESH_BINARY)\n",
    "ret, thresh2 = cv2.threshold(gray, min, max, cv2.THRESH_BINARY_INV)\n",
    "ret, thresh3 = cv2.threshold(gray, min, max, cv2.THRESH_TRUNC)\n",
    "ret, thresh4 = cv2.threshold(gray, min, max, cv2.THRESH_TOZERO)\n",
    "ret, thresh5 = cv2.threshold(gray, min, max, cv2.THRESH_TOZERO_INV)\n",
    "\n",
    "# Convertendo BGR para RBG para que o matplot imprima\n",
    "res2 = cv2.cvtColor(res, cv2.COLOR_BGR2RGB)\n",
    "\n",
    "titles = ['Normal BGR', 'Normal RGB', 'Cinza', 'Binary', 'Binary Inv', 'Trunc', 'To Zero', 'To Zero Inv']\n",
    "imgs = [res, res2, gray, thresh1, thresh2, thresh3, thresh4, thresh5]\n",
    "\n",
    "\n",
    "for i in range(len(imgs)):\n",
    "    plt.subplot(2,4,i+1)\n",
    "    plt.imshow(imgs[i], 'gray', vmin = 0, vmax = 255)\n",
    "    plt.title(titles[i])\n",
    "    plt.xticks([]),plt.yticks([])\n",
    "\n",
    "plt.show()\n",
    "\n",
    "# cv2.imshow('normal', imgs[0])\n",
    "# cv2.imshow('imagem', gray)\n",
    "# cv2.waitKey(0)\n",
    "# cv2.destroyAllWindows()\n",
    "\n",
    "thresh_types_bgr = cv2.imread('./media/thresholding_types.png')\n",
    "thresh_types = cv2.cvtColor(thresh_types_bgr, cv2.COLOR_BGR2RGB)\n",
    "plt.subplot(1,1,1)\n",
    "plt.imshow(thresh_types, 'gray')\n",
    "plt.title('Tipos de thresholding')\n",
    "plt.xticks([]),plt.yticks([])\n",
    "plt.show()"
   ]
  },
  {
   "cell_type": "markdown",
   "metadata": {},
   "source": [
    "### 8.1. Filtros"
   ]
  },
  {
   "cell_type": "code",
   "execution_count": null,
   "metadata": {},
   "outputs": [],
   "source": [
    "import cv2\n",
    "import matplotlib.pyplot as plt\n",
    "\n",
    "min = 127\n",
    "max = 255\n",
    "\n",
    "def threshold_binary(gray, min, max):\n",
    "    ret, thresh = cv2.threshold(gray, min, max, cv2.THRESH_BINARY)\n",
    "    return thresh\n",
    "\n",
    "img = cv2.imread('./media/memes.jfif', cv2.IMREAD_GRAYSCALE)\n",
    "thresh = threshold_binary(img, min, max)\n",
    "\n",
    "# Incrementa um borrão na imagem, 5, 7, 9, ..., n\n",
    "img2 = cv2.medianBlur(img, 9)\n",
    "\n",
    "\n",
    "# Os filtros são utilizados para realçar ou suavizar caracteristícas de uma imagem. \n",
    "\n",
    "# Filtro Gaussiano: reduz ruídos, suaviza a imagem e retira detalhes desnecessários.\n",
    "blur = cv2.GaussianBlur(thresh, (5,5), 0)\n",
    "# Parâmetros:\n",
    "# void cv::GaussianBlur\t(\tInputArray \tsrc,\n",
    "#                             OutputArray dst,\n",
    "#                                  Size ksize,\n",
    "#                                 double sigmaX,\n",
    "#                                 double sigmaY = 0,\n",
    "#                                 int borderType = BORDER_DEFAULT,\n",
    "#                                 AlgorithmHint hint = cv::ALGO_HINT_DEFAULT \n",
    "# )\n",
    "\n",
    "# blur = cv2.GaussianBlur(thresh, )\n",
    "\n",
    "titles = ['Cinza', 'Thresholding', 'MedianBlur', 'GaussianBlur']\n",
    "resultados = [img, thresh, img2, blur]\n",
    "\n",
    "for i in range(len(resultados)):\n",
    "    plt.subplot(1,4,i+1)\n",
    "    plt.imshow(resultados[i], cmap='gray')\n",
    "    plt.title(titles[i])\n",
    "    plt.xticks([]),plt.yticks([])\n",
    "\n",
    "plt.show()\n",
    "\n",
    "\n",
    "# for i in range(len(resultados)):\n",
    "#     cv2.imshow(titles[i], resultados[i])\n",
    "\n",
    "\n",
    "# Filtro Laplaciano: Realça as bordas da imagem\n",
    "laplacian = cv2.Laplacian(blur, cv2.CV_64F)\n",
    "# Deve receber a imagem suavizada e um filtro, o utilizado foi padrão 3x3\n",
    "\n",
    "# cv2.imshow('Threshold', thresh)\n",
    "cv2.imshow('Filtro Gaussiano', blur)\n",
    "cv2.imshow('Laplacian', laplacian)\n",
    "cv2.waitKey(0)\n",
    "cv2.destroyAllWindows()\n"
   ]
  },
  {
   "cell_type": "markdown",
   "metadata": {},
   "source": [
    "### 8.2. Adaptive Thresholding"
   ]
  },
  {
   "cell_type": "code",
   "execution_count": null,
   "metadata": {},
   "outputs": [],
   "source": [
    "import cv2\n",
    "import matplotlib.pyplot as plt\n",
    "\n",
    "# Em casos onde há mais de uma fonte de iluminação pode não ser apropriado colocar um valor global para o Thresholding ([[ret]], thresh = ...), ao invés disso se torna interessante colocar um limiar adaptativo. Onde o algoritmo determina o limite de um pixel com base em uma pequena região ao seu redor. Portanto, obtemos limites diferentes para diferentes regiões da mesma imagem, o que fornece melhores resultados para imagens com iluminação variável.\n",
    "\n",
    "min = 127\n",
    "max = 255\n",
    "blocksize = 11\n",
    "c = 2\n",
    "\n",
    "img = cv2.imread('./media/memes.jfif', cv2.IMREAD_GRAYSCALE)\n",
    "\n",
    "# Threshold binario\n",
    "ret, th1 = cv2.threshold(img, min, max, cv2.THRESH_BINARY)\n",
    "# Threshold adaptativo\n",
    "th2 = cv2.adaptiveThreshold(img, max, cv2.ADAPTIVE_THRESH_MEAN_C, cv2.THRESH_BINARY, blocksize, c)\n",
    "th3 = cv2.adaptiveThreshold(img, max, cv2.ADAPTIVE_THRESH_GAUSSIAN_C, cv2.THRESH_BINARY, blocksize, c)\n",
    "# blockSize: Size of a pixel neighborhood that is used to calculate a threshold value for the pixel: 3, 5, 7, and so on.\n",
    "# C: Constant subtracted from the mean or weighted mean (see the details below). Normally, it is positive but may be zero or negative as well.\n",
    "\n",
    "titles = ['Cinza', 'Threshold', 'AdaptiveMeanC', 'AdaptiveGaussianC']\n",
    "images = [img, th1, th2, th3]\n",
    "\n",
    "for i in range(len(images)):\n",
    "    plt.subplot(2,2,i+1)\n",
    "    plt.imshow(images[i], cmap='gray')\n",
    "    plt.title(titles[i])\n",
    "    plt.xticks([])\n",
    "    plt.yticks([])\n",
    "\n",
    "plt.show()\n",
    "\n",
    "# cv2.imshow('Imagem', img)\n",
    "# cv2.waitKey(0)\n",
    "# cv2.destroyAllWindows()\n",
    "    "
   ]
  },
  {
   "cell_type": "markdown",
   "metadata": {},
   "source": [
    "## 9. Transformações"
   ]
  },
  {
   "cell_type": "markdown",
   "metadata": {},
   "source": [
    "Diminuir a imagem:"
   ]
  },
  {
   "cell_type": "code",
   "execution_count": null,
   "metadata": {},
   "outputs": [],
   "source": [
    "import cv2\n",
    "\n",
    "escalaX = 1\n",
    "escalaY = 1\n",
    "\n",
    "img = cv2.imread('./media/transform.jpeg')\n",
    "# fx e fy são escalas em porcentagem do tamanho real\n",
    "res = cv2.resize(img, None, fx=escalaX, fy=escalaY, interpolation= cv2.INTER_AREA)\n",
    "# INTER_AREA = Escolher\n",
    "# INTER_CUBIC = ampliar (lento)\n",
    "# INTER_LINEAR = ampliar (rápido)\n",
    "\n",
    "cv2.imshow('original', img)\n",
    "cv2.imshow('resized', res)\n",
    "\n",
    "cv2.waitKey(0)\n",
    "cv2.destroyAllWindows()"
   ]
  },
  {
   "cell_type": "code",
   "execution_count": null,
   "metadata": {},
   "outputs": [],
   "source": [
    "# Desenha em pontos\n",
    "\n",
    "import cv2\n",
    "import numpy as np\n",
    "\n",
    "img = cv2.imread('./media/transform.jpeg')\n",
    "pts = np.array([[200,5], [20,30], [100,140], [300, 100]], np.int32)\n",
    "cv2.polylines(img, [pts], True, (0,255,0))\n",
    "\n",
    "cv2.imshow('Pontos', img)\n",
    "cv2.waitKey(0)\n",
    "cv2.destroyAllWindows()"
   ]
  },
  {
   "cell_type": "code",
   "execution_count": null,
   "metadata": {},
   "outputs": [],
   "source": [
    "# Armazena coordenadas de pontos definidos pelo usuario\n",
    "\n",
    "import cv2\n",
    "\n",
    "img = cv2.imread('./media/transform.jpeg')\n",
    "\n",
    "points = []\n",
    "def draw_circle(event, x, y, flags, param):\n",
    "    if event == cv2.EVENT_LBUTTONDOWN:\n",
    "        if len(points) < 4:\n",
    "            points.append([x, y])\n",
    "            cv2.circle(img, (x,y), 5, (255, 0, 0))\n",
    "\n",
    "cv2.namedWindow('Pontos')\n",
    "cv2.setMouseCallback('Pontos', draw_circle)\n",
    "\n",
    "while True:\n",
    "    cv2.imshow('Pontos', img)\n",
    "    if cv2.waitKey(1) & 0xFF == ord('q'):\n",
    "        cv2.destroyAllWindows()\n",
    "        break\n",
    "\n",
    "print(points)"
   ]
  },
  {
   "cell_type": "markdown",
   "metadata": {},
   "source": [
    "Transformação de perspectiva:"
   ]
  },
  {
   "cell_type": "code",
   "execution_count": null,
   "metadata": {},
   "outputs": [],
   "source": [
    "import cv2\n",
    "import numpy as np\n",
    "\n",
    "escalaX = 1\n",
    "escalaY = 1\n",
    "\n",
    "# Ajusta a escala\n",
    "img = cv2.imread('./media/transform.jpeg')\n",
    "img = cv2.resize(img, None, None, fx=escalaX, fy=escalaY, interpolation= cv2.INTER_LINEAR)\n",
    "\n",
    "# Recolhe os pontos\n",
    "points = []\n",
    "def draw_circle(event, x, y, flags, param):\n",
    "    if event == cv2.EVENT_LBUTTONDOWN:\n",
    "        if len(points) < 4:\n",
    "            points.append([x, y])\n",
    "            cv2.circle(img, (x,y), 10, (255,0,0))\n",
    "\n",
    "cv2.namedWindow('Pontos')\n",
    "cv2.setMouseCallback('Pontos', draw_circle)\n",
    "\n",
    "while (1):\n",
    "    cv2.imshow('Pontos', img)\n",
    "    if cv2.waitKey(1) & 0xFF == ord('q'):\n",
    "        cv2.destroyAllWindows()\n",
    "        break\n",
    "\n",
    "print(points)\n",
    "\n",
    "convPoints = np.array(points, np.int32)\n",
    "cv2.polylines(img, convPoints, True, (0,255,0))\n",
    "\n",
    "cv2.imshow('Pontos', img)\n",
    "cv2.waitKey(0)\n",
    "cv2.destroyAllWindows()"
   ]
  }
 ],
 "metadata": {
  "kernelspec": {
   "display_name": "Python 3",
   "language": "python",
   "name": "python3"
  },
  "language_info": {
   "codemirror_mode": {
    "name": "ipython",
    "version": 3
   },
   "file_extension": ".py",
   "mimetype": "text/x-python",
   "name": "python",
   "nbconvert_exporter": "python",
   "pygments_lexer": "ipython3",
   "version": "3.12.4"
  }
 },
 "nbformat": 4,
 "nbformat_minor": 2
}
