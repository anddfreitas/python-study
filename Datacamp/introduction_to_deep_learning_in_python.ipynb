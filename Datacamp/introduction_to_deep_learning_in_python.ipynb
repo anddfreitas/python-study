{
 "cells": [
  {
   "cell_type": "markdown",
   "metadata": {},
   "source": [
    "# 1. Basics of deep learning and neural networks"
   ]
  },
  {
   "cell_type": "markdown",
   "metadata": {},
   "source": [
    "### 1.1 Forward Propagation (Propagação de Avanço)"
   ]
  },
  {
   "cell_type": "markdown",
   "metadata": {},
   "source": [
    "Basicamente uma tomada de decisão depende precisamente de nós, em que nesses nós estão armazenados valores numéricos que correspondem ao valor da decisão. Exemplo:\n",
    "<center><img src = \"nos.png\" style=\"width:500px\" ></center>\n",
    "Onde na esquerda se encontram as ações, as linhas designam o peso de cada uma delas para cada nó, os nós são o resultado da múltiplicação dos valores de entrada pelo pelo, geralmente é feito de forma:"
   ]
  },
  {
   "cell_type": "code",
   "execution_count": null,
   "metadata": {},
   "outputs": [],
   "source": [
    "# Calculate node 0 value: node_0_value\n",
    "node_0_value = (input_data * weights['node_0']).sum()\n",
    "\n",
    "# Calculate node 1 value: node_1_value\n",
    "node_1_value = (input_data * weights['node_1']).sum()\n",
    "\n",
    "# Put node values into array: hidden_layer_outputs\n",
    "hidden_layer_outputs = np.array([node_0_value, node_1_value])\n",
    "\n",
    "# Calculate output: output\n",
    "output = (hidden_layer_outputs * weights['output']).sum()\n",
    "\n",
    "# Print output\n",
    "print(output)"
   ]
  },
  {
   "cell_type": "markdown",
   "metadata": {},
   "source": [
    "### 1.2 Activation Functions (Funções de Ativação)"
   ]
  },
  {
   "cell_type": "markdown",
   "metadata": {},
   "source": [
    "Basicamente sabe-se que o modelo anterior abrange funções que são lineares por definição, para funções não lineares iremos utilizar a resolução da tangente hiperbólica da biblioteca numpy (np.tanh()), sendo ela aplicada no valor final de cada um dos nós.\n",
    "\n",
    "Termo importante: ReLU (rectified linear activation function)\n",
    "\n",
    "The rectified linear activation function (called ReLU) has been shown to lead to very high-performance networks. This function takes a single number as an input, returning 0 if the input is negative, and the input if the input is positive."
   ]
  }
 ],
 "metadata": {
  "kernelspec": {
   "display_name": "Python 3",
   "language": "python",
   "name": "python3"
  },
  "language_info": {
   "codemirror_mode": {
    "name": "ipython",
    "version": 3
   },
   "file_extension": ".py",
   "mimetype": "text/x-python",
   "name": "python",
   "nbconvert_exporter": "python",
   "pygments_lexer": "ipython3",
   "version": "3.12.0"
  }
 },
 "nbformat": 4,
 "nbformat_minor": 2
}
