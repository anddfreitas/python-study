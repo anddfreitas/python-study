{
 "cells": [
  {
   "cell_type": "markdown",
   "metadata": {},
   "source": [
    "# 1. Conversão de tipos\n"
   ]
  },
  {
   "cell_type": "code",
   "execution_count": null,
   "metadata": {},
   "outputs": [],
   "source": [
    "# Suponha uma variável a = 10\n",
    "a = 10\n",
    "# Printando o tipo teremos que ela é integer\n",
    "print(a)\n",
    "print(type(a))\n",
    "# Para mudar seu tipo, forçamos ela para um outro tipo usando, int(), str(), bool(), float()\n",
    "print(a)\n",
    "print(type(str(a)))\n",
    "# Para concatenar em um print é necessário converter para o tipo str()"
   ]
  },
  {
   "cell_type": "markdown",
   "metadata": {},
   "source": [
    "# 2. Listas"
   ]
  },
  {
   "cell_type": "markdown",
   "metadata": {},
   "source": [
    "### 2.1 Lista dentro de lista"
   ]
  },
  {
   "cell_type": "code",
   "execution_count": null,
   "metadata": {},
   "outputs": [],
   "source": [
    "# Sabendo que é possível armazenar lista dentro de uma lista como:\n",
    "x = [[\"a\", \"b\", \"c\"],\n",
    "     [\"d\", \"e\", \"f\"],\n",
    "     [\"g\", \"h\", \"i\"]]\n",
    "# É possível verificar valores dentro das sublistas colocando o índice da sublista e em seguida o índice da posição do valor na sublista\n",
    "x[2][0]\n",
    "# O 2 representa a sublista de índice 2, no caso [\"g\", \"h\", \"i\"], e o 0 representa o elemento no índice 0, no caso \"g\"\n",
    "# É possível através disso desenvolver métodos para percorrer as listas\n"
   ]
  },
  {
   "cell_type": "markdown",
   "metadata": {},
   "source": [
    "### 2.2 Percorrendo listas (arrays)"
   ]
  },
  {
   "cell_type": "code",
   "execution_count": null,
   "metadata": {},
   "outputs": [],
   "source": [
    "# Para percorrer listas é necessário ter em mente que funciona do tipo x[start:end]\n",
    "areas = [\"hallway\", 11.25, \"kitchen\", 18.0, \"living room\", 20.0, \"bedroom\", 10.75, \"bathroom\", 9.50]\n",
    "# Dependendo da utilização que é necessária podemos selecionar os itens partindo dos pressupostos:\n",
    "areas[0:3] # <--- Percorre do índice \"0\" até o índice 3-1 = \"2\"\n",
    "areas[:3]  # <--- Percorre do primeiro índice da lista até o 3-1 = \"2\"\n",
    "areas [1:] # <--- Percorre do índice \"1\" até o último índice\n",
    "areas [-1] # <--- Mostra o último índice"
   ]
  },
  {
   "cell_type": "markdown",
   "metadata": {},
   "source": [
    "### 2.3 Modificando elementos em uma lista"
   ]
  },
  {
   "cell_type": "code",
   "execution_count": null,
   "metadata": {},
   "outputs": [],
   "source": [
    "# Para modificar elementos em um índice na lista atribui-se um valor para aquele indíce, ou para os demais\n",
    "x = [\"a\", \"b\", \"c\", \"d\"]    \n",
    "x[1] = \"r\"                  # x = [\"a\", \"r\", \"c\", \"d\"]\n",
    "x[2:] = [\"s\", \"t\"]          # x = [\"a\", \"r\", \"s\", \"t\"]"
   ]
  },
  {
   "cell_type": "markdown",
   "metadata": {},
   "source": [
    "### 2.4 Adicionando elementos em uma lista"
   ]
  },
  {
   "cell_type": "code",
   "execution_count": 12,
   "metadata": {},
   "outputs": [
    {
     "data": {
      "text/plain": [
       "[[1, 2], 'b', 'c', 'd', 0, 1, 3, 4]"
      ]
     },
     "execution_count": 12,
     "metadata": {},
     "output_type": "execute_result"
    }
   ],
   "source": [
    "# Para adicionar elementos em uma lista, usa-s o sinal \"+\" e informa-se os elementos que serão adicionados\n",
    "y = [\"a\", \"b\", \"c\", \"d\"]    \n",
    "res = y + [0, 1]           # Adicionando elementos nas últimas posições da lista\n",
    "res                        # res = [\"a\", \"b\", \"c\", \"d\", 0, 1]\n",
    "\n",
    "res[0] = [1,2]             # Adicionando uma sublista no índice 0\n",
    "res                        # res = [[1, 2], \"b\", \"c\", \"d\", 0, 1]\n",
    "\n",
    "res = res + [3, 4]         # Adicionando elementos sem necessitar de uma nova variável\n",
    "res                        #  res = [[1, 2], \"b\", \"c\", \"d\", 0, 1, 3, 4]"
   ]
  },
  {
   "cell_type": "markdown",
   "metadata": {},
   "source": [
    "### 2.5 Removendo elementos de uma lista"
   ]
  },
  {
   "cell_type": "code",
   "execution_count": 13,
   "metadata": {},
   "outputs": [
    {
     "data": {
      "text/plain": [
       "[[1, 2], 'b', 'c', 'd', 0, 1, 3]"
      ]
     },
     "execution_count": 13,
     "metadata": {},
     "output_type": "execute_result"
    }
   ],
   "source": [
    "# Para remover elementos de uma lista usa-se a declaração del(), depois de removido todos os elementos posteriores terão seus índices alterados\n",
    "res             #  res = [[1, 2], \"b\", \"c\", \"d\", 0, 1, 3, 4]\n",
    "del(res[-1])    #  res = [[1, 2], \"b\", \"c\", \"d\", 0, 1, 3]\n",
    "res"
   ]
  },
  {
   "cell_type": "markdown",
   "metadata": {},
   "source": [
    "### 2.6 Adendo listas"
   ]
  },
  {
   "cell_type": "code",
   "execution_count": null,
   "metadata": {},
   "outputs": [],
   "source": [
    "# Se exister uma lista e duas variaveis receberem a mesma lista, as alterações da primeira lista afetarão as duas variáveis, \n",
    "# porém se for necessário fazer um \"checkpoint\" da lista atual é necessário utilizar o elemento list() ou [:]\n",
    "\n",
    "# Create list areas\n",
    "areas = [11.25, 18.0, 20.0, 10.75, 9.50]\n",
    "\n",
    "# Create areas_copy\n",
    "areas_copy = areas[:]\n",
    "\n",
    "# Change areas_copy\n",
    "areas_copy[0] = 5.0\n",
    "\n",
    "# Print areas\n",
    "print(areas)"
   ]
  },
  {
   "cell_type": "markdown",
   "metadata": {},
   "source": [
    "# 3. Funções e pacotes"
   ]
  },
  {
   "cell_type": "markdown",
   "metadata": {},
   "source": [
    "### 3.1 Funções"
   ]
  },
  {
   "cell_type": "code",
   "execution_count": null,
   "metadata": {},
   "outputs": [],
   "source": [
    "type()      # <--- Retorna o tipo\n",
    "max ()      # <--- Retorna o valor máximo\n",
    "round ()    # <--- Arredonda um valor, Sintaxe: round(numero, quantidade de casas), quando não especificado a quantidade de casas ele arredonda para inteiro\n",
    "help ()     # <--- Retorna a documentação, Sintaxe: help(round)\n",
    "len ()      # <--- Retorna o tamanho\n",
    "pow ()      # <--- Calcula a potência, Sintaxe: pow(numero, expoente)\n",
    "sorted()    # <--- A partir de uma lista ou de um intervalo sorteia um elemento"
   ]
  },
  {
   "cell_type": "markdown",
   "metadata": {},
   "source": [
    "### 3.2 Métodos"
   ]
  },
  {
   "cell_type": "code",
   "execution_count": null,
   "metadata": {},
   "outputs": [],
   "source": [
    "# Igualmente a funções, porém são chamados após acréscimo de \".\" após um objeto\n",
    "fam = [\"liz\", 1.73, \"emma\", 1.68, \"mom\", 1.71, \"dad\", 1.89]\n",
    "fam.index(\"mom\")        # Retorna o índice em que se encontra a palavra mãe\n",
    "fam.count(1.73)         # Retorna a quantidade de vezes que um elemento aparece\n",
    "\n",
    "sister = \"liz\"\n",
    "sister.capitalize()     # Retorna uma string começando com maiúscula\n",
    "sister.replace(\"z\", \"am\") # Altera algum \"valor\" dentro da string por outro valor\n",
    "\n",
    "fam.append()            # Acrescenta um valor na lista\n",
    "fam.remove()            # Remove um valor da lista\n",
    "fam.reverse()           # Chama a lista em ordem reversa\n",
    "\n",
    "place = \"poolhouse\"\n",
    "place_up = place.upper() # Transforma uma string em string de letras maiúsculas"
   ]
  },
  {
   "cell_type": "markdown",
   "metadata": {},
   "source": [
    "# 4. NumPy"
   ]
  },
  {
   "cell_type": "code",
   "execution_count": null,
   "metadata": {},
   "outputs": [],
   "source": [
    "import numpy as np\n",
    "height = [1.73, 1.68, 1.71, 1.89, 1.79]\n",
    "weight = [65.4, 59.2, 63.6, 88.4, 68.7]\n",
    "\n",
    "np_height = np.array(height)        # Criando vetor numpy para realizar operações\n",
    "np_weight = np.array(weight)        #\n",
    "\n",
    "bmi = np_weight / np_height ** 2    # Se não transformar as listas em numpy não é possível realizar operações com a lista por inteiro, apenas elemento por elemento\n",
    "bmi\n",
    "bmi[bmi > 23]\n",
    "\n",
    "#Para percorrer um array 2D, pode-se utilizar o método [:, indice da coluna], o : naturalmente significará todos os elementos"
   ]
  },
  {
   "cell_type": "markdown",
   "metadata": {},
   "source": [
    "### 4.1 Estatística básica"
   ]
  },
  {
   "cell_type": "code",
   "execution_count": null,
   "metadata": {},
   "outputs": [],
   "source": [
    "np.mean()       # <--- Média\n",
    "np.median()     # <--- Mediana\n",
    "np.std()        # <--- Desvio padrão\n",
    "np.corrcoef()   # <--- Correlação linear"
   ]
  }
 ],
 "metadata": {
  "kernelspec": {
   "display_name": "Python 3",
   "language": "python",
   "name": "python3"
  },
  "language_info": {
   "codemirror_mode": {
    "name": "ipython",
    "version": 3
   },
   "file_extension": ".py",
   "mimetype": "text/x-python",
   "name": "python",
   "nbconvert_exporter": "python",
   "pygments_lexer": "ipython3",
   "version": "3.11.5"
  }
 },
 "nbformat": 4,
 "nbformat_minor": 2
}
