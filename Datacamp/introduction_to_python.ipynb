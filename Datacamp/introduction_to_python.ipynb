{
 "cells": [
  {
   "cell_type": "markdown",
   "metadata": {},
   "source": [
    "# 1. Conversão de tipos\n"
   ]
  },
  {
   "cell_type": "code",
   "execution_count": null,
   "metadata": {},
   "outputs": [],
   "source": [
    "# Suponha uma variável a = 10\n",
    "a = 10\n",
    "# Printando o tipo teremos que ela é integer\n",
    "print(a)\n",
    "print(type(a))\n",
    "# Para mudar seu tipo, forçamos ela para um outro tipo usando, int(), str(), bool(), float()\n",
    "print(a)\n",
    "print(type(str(a)))\n",
    "# Para concatenar em um print é necessário converter para o tipo str()"
   ]
  }
 ],
 "metadata": {
  "kernelspec": {
   "display_name": "Python 3",
   "language": "python",
   "name": "python3"
  },
  "language_info": {
   "codemirror_mode": {
    "name": "ipython",
    "version": 3
   },
   "file_extension": ".py",
   "mimetype": "text/x-python",
   "name": "python",
   "nbconvert_exporter": "python",
   "pygments_lexer": "ipython3",
   "version": "3.11.5"
  }
 },
 "nbformat": 4,
 "nbformat_minor": 2
}
