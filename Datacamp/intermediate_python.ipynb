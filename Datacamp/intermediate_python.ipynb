{
 "cells": [
  {
   "cell_type": "markdown",
   "metadata": {},
   "source": [
    "# 1. Matplotlib"
   ]
  },
  {
   "cell_type": "markdown",
   "metadata": {},
   "source": [
    "### 1.1 Plots básicos (normal e dispersão)"
   ]
  },
  {
   "cell_type": "code",
   "execution_count": null,
   "metadata": {},
   "outputs": [],
   "source": [
    "import matplotlib.pyplot as plt\n",
    "# Plotagem de gráfico comum (com linhas)\n",
    "x = [1, 2, 3, 4]\n",
    "y = [10, 11, 23, 34]\n",
    "plt.plot(x, y)          # Sintaxe: plt.plot(eixo x, eixo y)\n",
    "plt.show() \n",
    "# Plotagem de gráfico de dispersão\n",
    "plt.scatter(x, y)\n",
    "plt.show()\n",
    "\n",
    "# Dependendo dos valores dos dados as vezes é mais interessante tratar um dos eixos na escala logaritmica\n",
    "plt.xscale('log')       # <--- Mudança de escala do eixo X para escala log"
   ]
  },
  {
   "cell_type": "markdown",
   "metadata": {},
   "source": [
    "### 1.2 Histograma"
   ]
  },
  {
   "cell_type": "code",
   "execution_count": null,
   "metadata": {},
   "outputs": [],
   "source": [
    "# Sua principal função é ajudar a identificar o comportamento de padrões\n",
    "plt.hist()             # <--- É importante leitura da documentação para definição dos parâmetros. (array, bins(quantidade de segmentos), range, ...)\n",
    "plt.clf()              # <--- \"Limpa\" a imagem anterior, mas as duas podem aparecer, dá pra deixar uma por cima da outra"
   ]
  },
  {
   "cell_type": "markdown",
   "metadata": {},
   "source": [
    "### 1.3 Personalização"
   ]
  },
  {
   "cell_type": "code",
   "execution_count": null,
   "metadata": {},
   "outputs": [],
   "source": [
    "plt.plot(x, y)\n",
    "\n",
    "plt.xlabel('x')             # <--- Adiciona legenda no eixo X\n",
    "plt.ylabel('y')             # <--- Adiciona legenda no eixo Y\n",
    "plt.title('Titulo')         # <--- Adiciona título\n",
    "plt.xticks()                # <--- Troca a escala plt.xticks([1.0, 1.5, ...], [nova escala])\n",
    "plt.grid()                  # <--- Mostra os grids\n",
    "plt.text()                  # <--- Adiciona textos\n",
    "\n",
    "plt.show()"
   ]
  },
  {
   "cell_type": "markdown",
   "metadata": {},
   "source": [
    "# 2. Dicionários"
   ]
  }
 ],
 "metadata": {
  "kernelspec": {
   "display_name": "Python 3",
   "language": "python",
   "name": "python3"
  },
  "language_info": {
   "codemirror_mode": {
    "name": "ipython",
    "version": 3
   },
   "file_extension": ".py",
   "mimetype": "text/x-python",
   "name": "python",
   "nbconvert_exporter": "python",
   "pygments_lexer": "ipython3",
   "version": "3.12.0"
  }
 },
 "nbformat": 4,
 "nbformat_minor": 2
}
