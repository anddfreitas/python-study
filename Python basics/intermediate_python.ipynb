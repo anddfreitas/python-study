{
 "cells": [
  {
   "cell_type": "markdown",
   "metadata": {},
   "source": [
    "# 1. Matplotlib"
   ]
  },
  {
   "cell_type": "markdown",
   "metadata": {},
   "source": [
    "### 1.1 Plots básicos (normal e dispersão)"
   ]
  },
  {
   "cell_type": "code",
   "execution_count": null,
   "metadata": {},
   "outputs": [],
   "source": [
    "import matplotlib.pyplot as plt\n",
    "# Plotagem de gráfico comum (com linhas)\n",
    "x = [1, 2, 3, 4]\n",
    "y = [10, 11, 23, 34]\n",
    "plt.plot(x, y)          # Sintaxe: plt.plot(eixo x, eixo y)\n",
    "plt.show() \n",
    "# Plotagem de gráfico de dispersão\n",
    "plt.scatter(x, y)\n",
    "plt.show()\n",
    "\n",
    "# Dependendo dos valores dos dados as vezes é mais interessante tratar um dos eixos na escala logaritmica\n",
    "plt.xscale('log')       # <--- Mudança de escala do eixo X para escala log"
   ]
  },
  {
   "cell_type": "markdown",
   "metadata": {},
   "source": [
    "### 1.2 Histograma"
   ]
  },
  {
   "cell_type": "code",
   "execution_count": null,
   "metadata": {},
   "outputs": [],
   "source": [
    "# Sua principal função é ajudar a identificar o comportamento de padrões\n",
    "plt.hist()             # <--- É importante leitura da documentação para definição dos parâmetros. (array, bins(quantidade de segmentos), range, ...)\n",
    "plt.clf()              # <--- \"Limpa\" a imagem anterior, mas as duas podem aparecer, dá pra deixar uma por cima da outra"
   ]
  },
  {
   "cell_type": "markdown",
   "metadata": {},
   "source": [
    "### 1.3 Personalização"
   ]
  },
  {
   "cell_type": "code",
   "execution_count": null,
   "metadata": {},
   "outputs": [],
   "source": [
    "plt.plot(x, y)\n",
    "\n",
    "plt.xlabel('x')             # <--- Adiciona legenda no eixo X\n",
    "plt.ylabel('y')             # <--- Adiciona legenda no eixo Y\n",
    "plt.title('Titulo')         # <--- Adiciona título\n",
    "plt.xticks()                # <--- Troca a escala plt.xticks([1.0, 1.5, ...], [nova escala])\n",
    "plt.grid()                  # <--- Mostra os grids\n",
    "plt.text()                  # <--- Adiciona textos\n",
    "\n",
    "plt.show()"
   ]
  },
  {
   "cell_type": "markdown",
   "metadata": {},
   "source": [
    "# 2. Dicionários e Pandas"
   ]
  },
  {
   "cell_type": "code",
   "execution_count": 2,
   "metadata": {},
   "outputs": [
    {
     "name": "stdout",
     "output_type": "stream",
     "text": [
      "dict_keys(['brazil', 'espanha', 'portugal'])\n",
      "madrid\n"
     ]
    }
   ],
   "source": [
    "# De forma teórica, é um método capaz de fazer uma ligação entre duas ou mais listas, para que não seja necessário de certa forma abordar as duas sempres.\n",
    "# Exemplo:\n",
    "countries = ['brazil', 'espanha', 'portugal']\n",
    "capitals = ['brasilia', 'madrid', 'lisboa']\n",
    "# Digamos que eu sei que a relação do indice 0 dos paises é o indice 0 das capitais, então eu posso representar essa ligação de forma:\n",
    "dic_capitais = {'brazil':'brasilia', 'espanha':'madrid', 'portugal':'lisboa'} # Deve-se seguir essa sintaxe\n",
    "# O primeiro elemento por exemplo 'brazil' é uma key e o elemento ligado a ele 'brasilia' é o valor de retorno\n",
    "# Se eu quiser mostrar o valor de acordo com a chave, posso usar o keys():\n",
    "# Chamando as chaves:\n",
    "print(dic_capitais.keys())\n",
    "# Chamando o valor de determinada chave:\n",
    "print(dic_capitais['espanha'])\n",
    "# É importante lembrar que o dicionário é imutável. Como assim? Os valores de chaves são unicos, ou seja, não podem ser repetidos, embora seus valores possam ser alterados."
   ]
  },
  {
   "cell_type": "markdown",
   "metadata": {},
   "source": [
    "<center><img src = \"listas-vs-dicionario.png\"></center>"
   ]
  },
  {
   "cell_type": "markdown",
   "metadata": {},
   "source": [
    "### 2.1 Dicionários"
   ]
  },
  {
   "cell_type": "markdown",
   "metadata": {},
   "source": [
    "#### 2.1.1 Adicionando itens"
   ]
  },
  {
   "cell_type": "code",
   "execution_count": 3,
   "metadata": {},
   "outputs": [
    {
     "name": "stdout",
     "output_type": "stream",
     "text": [
      "{'brazil': 'brasilia', 'espanha': 'madrid', 'portugal': 'lisboa', 'argentina': 'buenos aires'}\n"
     ]
    }
   ],
   "source": [
    "# Para adicionar itens a um dicionário chama-se a sua variável, entre cochêtes eu identifico a sua chave e incremento um valor. Exemplo:\n",
    "dic_capitais['argentina'] = 'buenos aires'\n",
    "print(dic_capitais)"
   ]
  },
  {
   "cell_type": "markdown",
   "metadata": {},
   "source": [
    "#### 2.1.2 Removendo itens"
   ]
  },
  {
   "cell_type": "code",
   "execution_count": 4,
   "metadata": {},
   "outputs": [
    {
     "name": "stdout",
     "output_type": "stream",
     "text": [
      "{'brazil': 'brasilia', 'espanha': 'madrid', 'portugal': 'lisboa'}\n"
     ]
    }
   ],
   "source": [
    "# A remoção de itens funciona de forma semelhante as linhas, sendo necessário apenas a utilização da função del:\n",
    "del(dic_capitais['argentina']) # É necessário passar como parâmetro apenas a chave\n",
    "print(dic_capitais)"
   ]
  },
  {
   "cell_type": "markdown",
   "metadata": {},
   "source": [
    "#### 2.1.3 Editando itens"
   ]
  },
  {
   "cell_type": "code",
   "execution_count": 5,
   "metadata": {},
   "outputs": [
    {
     "name": "stdout",
     "output_type": "stream",
     "text": [
      "{'brazil': 'natal', 'espanha': 'madrid', 'portugal': 'lisboa'}\n"
     ]
    }
   ],
   "source": [
    "# Assim como nas listas, é necessário apenas atribuir um novo valor, especificando em qual chave isso deve ocorrer:\n",
    "dic_capitais['brazil'] = 'natal'\n",
    "print(dic_capitais)"
   ]
  },
  {
   "cell_type": "markdown",
   "metadata": {},
   "source": [
    "#### 2.1.4 Dicionário de dicionários"
   ]
  },
  {
   "cell_type": "code",
   "execution_count": 6,
   "metadata": {},
   "outputs": [
    {
     "name": "stdout",
     "output_type": "stream",
     "text": [
      "paris\n",
      "{'spain': {'capital': 'madrid', 'population': 46.77}, 'france': {'capital': 'paris', 'population': 66.03}, 'germany': {'capital': 'berlin', 'population': 80.62}, 'norway': {'capital': 'oslo', 'population': 5.084}, 'italy': {'capital': 'rome', 'population': 59.83}}\n"
     ]
    }
   ],
   "source": [
    "# A premissa é a mesma das listas, porém com chave dentro de chaves, para acessar um atributo especifico se informa a primeira chave e a próxima chave a ser buscada\n",
    "# Dictionary of dictionaries\n",
    "europe = { 'spain': { 'capital':'madrid', 'population':46.77 },\n",
    "           'france': { 'capital':'paris', 'population':66.03 },\n",
    "           'germany': { 'capital':'berlin', 'population':80.62 },\n",
    "           'norway': { 'capital':'oslo', 'population':5.084 } }\n",
    "\n",
    "\n",
    "# Print out the capital of France\n",
    "print(europe['france']['capital'])\n",
    "\n",
    "# Create sub-dictionary data\n",
    "data = {'capital':'rome', 'population':59.83}\n",
    "\n",
    "# Add data to europe under key 'italy'\n",
    "europe['italy'] = data\n",
    "\n",
    "# Print europe\n",
    "print(europe)"
   ]
  },
  {
   "cell_type": "markdown",
   "metadata": {},
   "source": [
    "### 2.2 Pandas"
   ]
  },
  {
   "cell_type": "code",
   "execution_count": 3,
   "metadata": {},
   "outputs": [
    {
     "name": "stdout",
     "output_type": "stream",
     "text": [
      "         country  drives_right  cars_per_cap\n",
      "0  United States          True           809\n",
      "1      Australia         False           731\n",
      "2          Japan         False           588\n",
      "3          India         False            18\n",
      "4         Russia          True           200\n",
      "5        Morocco          True            70\n",
      "6          Egypt          True            45\n",
      "           country  drives_right  cars_per_cap\n",
      "US   United States          True           809\n",
      "AUS      Australia         False           731\n",
      "JPN          Japan         False           588\n",
      "IN           India         False            18\n",
      "RU          Russia          True           200\n",
      "MOR        Morocco          True            70\n",
      "EG           Egypt          True            45\n"
     ]
    }
   ],
   "source": [
    "# Pandas é uma ferramenta importante para a leitura e interpretação de dados em forma de planilhas através de DataFrames.\n",
    "# CSV é um arquivo numeral separado por vírgulas.\n",
    "\n",
    "# Para transformar em um DataFrame (Planilha) usar a função pd.DataFrame()\n",
    "\n",
    "# Pre-defined lists\n",
    "names = ['United States', 'Australia', 'Japan', 'India', 'Russia', 'Morocco', 'Egypt']\n",
    "dr =  [True, False, False, False, True, True, True]\n",
    "cpc = [809, 731, 588, 18, 200, 70, 45]\n",
    "\n",
    "# Import pandas as pd\n",
    "import pandas as pd\n",
    "\n",
    "# Create dictionary my_dict with three key:value pairs: my_dict\n",
    "my_dict = {'country': names, 'drives_right':dr, 'cars_per_cap':cpc}\n",
    "\n",
    "# Build a DataFrame cars from my_dict: cars\n",
    "cars = pd.DataFrame(my_dict)\n",
    "\n",
    "# Print cars\n",
    "print(cars)\n",
    "\n",
    "# Se for preciso modificar a coluna dos indices podemos fazer essa alteração através da linha:\n",
    "row_labels = ['US', 'AUS', 'JPN', 'IN', 'RU', 'MOR', 'EG']\n",
    "cars.index = row_labels\n",
    "\n",
    "print(cars)"
   ]
  },
  {
   "cell_type": "markdown",
   "metadata": {},
   "source": [
    "#### 2.2.1 Importando CSV"
   ]
  },
  {
   "cell_type": "code",
   "execution_count": null,
   "metadata": {},
   "outputs": [],
   "source": [
    "# Para importar um CSV deve-se utilizar a função do pandas pd.read_csv('LOCAL')\n",
    "# Exemplo: cars = pd.read_csv('cars.csv')\n",
    "# Modificando o index dentro da importação do CSV:\n",
    "# cars = pd.read_csv('cars.csv', index_col = 0), vale lembrar que o index_col é uma lista contendo todos os indices"
   ]
  },
  {
   "cell_type": "markdown",
   "metadata": {},
   "source": [
    "#### 2.2.2 Acessando linhas e colunas a partir do loc"
   ]
  },
  {
   "cell_type": "code",
   "execution_count": 9,
   "metadata": {},
   "outputs": [
    {
     "name": "stdout",
     "output_type": "stream",
     "text": [
      "country         United States\n",
      "drives_right             True\n",
      "cars_per_cap              809\n",
      "Name: US, dtype: object\n",
      "          country  drives_right  cars_per_cap\n",
      "US  United States          True           809\n",
      "RU         Russia          True           200\n"
     ]
    }
   ],
   "source": [
    "# O acesso as informações de um dicionário mudam de acordo com as listas e o DataFrame, por exemplo.\n",
    "# Para encontrar informações de uma lista usamos:\n",
    "print(cars.loc[\"US\"])\n",
    "# Para encontrar as informações como DataFrame usamos:\n",
    "print(cars.loc[[\"US\", \"RU\"]])"
   ]
  },
  {
   "cell_type": "code",
   "execution_count": 12,
   "metadata": {},
   "outputs": [
    {
     "name": "stdout",
     "output_type": "stream",
     "text": [
      "          country  cars_per_cap\n",
      "US  United States           809\n",
      "RU         Russia           200\n"
     ]
    }
   ],
   "source": [
    "# Também podemos especificar as chaves que queremos que sejam mostradas da forma linha e coluna:\n",
    "print(cars.loc[[\"US\", \"RU\"], [\"country\", \"cars_per_cap\"]]) # Lembrando que devemos usar cochêtes para inserir as chaves dentro \n",
    "                # Linhas             Colunas\n",
    "                "
   ]
  },
  {
   "cell_type": "markdown",
   "metadata": {},
   "source": [
    "#### 2.2.3 Acessando linhas e colunas a partir do iloc"
   ]
  },
  {
   "cell_type": "code",
   "execution_count": 16,
   "metadata": {},
   "outputs": [
    {
     "name": "stdout",
     "output_type": "stream",
     "text": [
      "          country  drives_right  cars_per_cap\n",
      "US  United States          True           809\n",
      "           country  drives_right  cars_per_cap\n",
      "US   United States          True           809\n",
      "AUS      Australia         False           731\n"
     ]
    }
   ],
   "source": [
    "# O uso é similar, porém vamos usar os indices que queremos que sejam mostrados\n",
    "print(cars.iloc[[0]])\n",
    "print(cars.iloc[[0,1]])"
   ]
  },
  {
   "cell_type": "markdown",
   "metadata": {},
   "source": [
    "# 3. Operadores de comparação"
   ]
  },
  {
   "cell_type": "code",
   "execution_count": null,
   "metadata": {},
   "outputs": [],
   "source": [
    "# Para utilizar os operadores lógicos juntamente com o numpy, precisaremos utilizar a expressão:\n",
    "# np.logical_and() ; np.logical_or() ; np.logical_not()"
   ]
  },
  {
   "cell_type": "markdown",
   "metadata": {},
   "source": [
    "### 3.1 Filtrando DataFrames do panda"
   ]
  },
  {
   "cell_type": "code",
   "execution_count": 7,
   "metadata": {},
   "outputs": [
    {
     "name": "stdout",
     "output_type": "stream",
     "text": [
      "US      True\n",
      "AUS     True\n",
      "JPN     True\n",
      "IN     False\n",
      "RU     False\n",
      "MOR    False\n",
      "EG     False\n",
      "Name: cars_per_cap, dtype: bool\n",
      "           country  drives_right  cars_per_cap\n",
      "US   United States          True           809\n",
      "AUS      Australia         False           731\n",
      "JPN          Japan         False           588\n"
     ]
    }
   ],
   "source": [
    "# É possível filtrar os DataFrames a partir de condições de comparação\n",
    "# Exemplo:\n",
    "armazena_cars = cars[\"cars_per_cap\"] > 200 # Nesse caso ele armazena as informações que estão ligadas na chave cars_per_cap que tem valores maiores que 200\n",
    "print (armazena_cars) # Dessa forma ele vai mostrar a lista retornando booleano com os valores armazenados\n",
    "print (cars[armazena_cars]) # Desse modo ele vai mostrar as informações que foram armazenadas de acordo com a condição"
   ]
  },
  {
   "cell_type": "markdown",
   "metadata": {},
   "source": [
    "# 4. Loops"
   ]
  },
  {
   "cell_type": "code",
   "execution_count": 8,
   "metadata": {},
   "outputs": [
    {
     "name": "stdout",
     "output_type": "stream",
     "text": [
      "afghanistan -- 30.55\n",
      "albania -- 2.77\n",
      "algeria -- 39.21\n"
     ]
    }
   ],
   "source": [
    "# É possível percorrer um dicionário usando um loop for, para isso é necessário o uso da sintaxe:\n",
    "# for variavel_chave, variavel_conteudo in dicionario.items() :     o uso de .items() é imprenscidível\n",
    "\n",
    "world = { \"afghanistan\":30.55, \n",
    "          \"albania\":2.77,\n",
    "          \"algeria\":39.21 }\n",
    "\n",
    "for key, value in world.items() :\n",
    "    print(key + \" -- \" + str(value))\n"
   ]
  },
  {
   "cell_type": "markdown",
   "metadata": {},
   "source": [
    "# 5. Random Numbers (FALTA)"
   ]
  }
 ],
 "metadata": {
  "kernelspec": {
   "display_name": "Python 3",
   "language": "python",
   "name": "python3"
  },
  "language_info": {
   "codemirror_mode": {
    "name": "ipython",
    "version": 3
   },
   "file_extension": ".py",
   "mimetype": "text/x-python",
   "name": "python",
   "nbconvert_exporter": "python",
   "pygments_lexer": "ipython3",
   "version": "3.12.0"
  }
 },
 "nbformat": 4,
 "nbformat_minor": 2
}
